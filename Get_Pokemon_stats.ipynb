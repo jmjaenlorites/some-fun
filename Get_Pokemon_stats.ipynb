{
 "cells": [
  {
   "cell_type": "markdown",
   "metadata": {},
   "source": [
    "# Get pokemon base stats\n",
    "\n",
    "*By Jaen-Lorites, Jose Manuel*\n",
    "\n",
    "In this notebook we define a function to get the base stats from a given pokemon, put it on a pandas DataFrame, and save to a csv file."
   ]
  },
  {
   "cell_type": "code",
   "execution_count": 34,
   "metadata": {},
   "outputs": [
    {
     "name": "stdout",
     "output_type": "stream",
     "text": [
      "Getting stats of Darkrai\n",
      "Done for Darkrai!\n",
      "Getting stats of Charizard\n",
      "Done for Charizard!\n",
      "Getting stats of Garchomp\n",
      "Done for Garchomp!\n",
      "CSV file saved!\n"
     ]
    }
   ],
   "source": [
    "import urllib3\n",
    "import re\n",
    "import pandas as pd\n",
    "from pandas import DataFrame\n",
    "\n",
    "def get_stats_base(pokemon = \"Darkrai\"):\n",
    "    url_base = \"https://pokemon.fandom.com/es/wiki/\"\n",
    "    url = url_base+pokemon # get the complete url\n",
    "    http = urllib3.PoolManager()\n",
    "    r = http.request('GET', url) # get the binary http request\n",
    "    html = r.data.decode('utf-8') #decode binari to string\n",
    "    # pattern to search at the html string. Note that some stats could have a ref, so we may take it into acount\n",
    "    ref = \"(<sup id=\\\"cite_ref-[0-9]{1,2}\\\" class=\\\"reference\\\"><a href=\\\"#cite_note-[0-9]{1,2}\\\">[0-9]{1,2}</a></sup>){0,2}\"\n",
    "    pattern_alt = \"<tr>\\\\n<th class=\\\"base\\\">Base\\\\n<\\/th>\\\\n<td>[0-9]{2,3}\"+ref+\\\n",
    "    \"\\\\n<\\/td>\\\\n<td>[0-9]{2,3}\"+ref+\"\\\\n<\\/td>\\\\n<td>[0-9]{2,3}\"+ref+\"\\\\n<\\/td>\\\\n<td>[0-9]{2,3}\"+ref+\\\n",
    "    \"\\\\n<\\/td>\\\\n<td>[0-9]{2,3}\"+ref+\"\\\\n<\\/td>\\\\n<td>[0-9]{2,3}\"+ref+\"\\\\n<\\/td><\\/tr>\"\n",
    "    pattern = \"<tr>\\\\n<th class=\\\"base\\\">Base\\\\n<\\/th>\\\\n<td>[0-9]{2,3}\\\\n<\\/td>\\\\n<td>[0-9]{2,3}\\\\n<\\/td>\\\\n<td>[0-9]{2,3}\\\\n<\\/td>\\\\n<td>[0-9]{2,3}\\\\n<\\/td>\\\\n<td>[0-9]{2,3}\\\\n<\\/td>\\\\n<td>[0-9]{2,3}\\\\n<\\/td><\\/tr>\"\n",
    "    print(\"Getting stats of {}\".format(pokemon))\n",
    "    try:\n",
    "        stats_base_html = re.search(pattern, html).group() #get the the html code with the base stats\n",
    "    except:\n",
    "        print(\"There may be some stat of\", pokemon,\"with a reference attached.\",\n",
    "              \"This si not a problem for us, but could take a few more seconds.\")\n",
    "        stats_base_html = re.search(pattern_alt, html).group()\n",
    "    stats_base = re.findall(\"[0-9]{2,3}\", stats_base_html) #get the stats as string list\n",
    "    stats_base = {name:int(stat) for name,stat in zip(columns_names[1:],stats_base)} #transform to a int dictionary\n",
    "    stats_base[\"Pokemon\"] = pokemon\n",
    "    print(\"Done for {}!\".format(pokemon))\n",
    "    return stats_base\n",
    "\n",
    "columns_names = [\"Pokemon\", \"PS\", \"Ataque\", \"Defensa\", \"At. especial\", \"Def. especial\", \"Velocidad\"]\n",
    "stats_pokemons = DataFrame(columns = columns_names) # Create the empty DataFrame\n",
    "pokemons = [\"Darkrai\", \"Charizard\", \"Garchomp\"] # Pokemon names to get the base stats\n",
    "\n",
    "for pokemon in pokemons:\n",
    "    stats_pokemons = stats_pokemons.append(get_stats_base(pokemon), ignore_index=True)\n",
    "\n",
    "stats_pokemons.to_csv(\"Stats_base.csv\") #Save to a csv file\n",
    "print(\"CSV file saved!\")"
   ]
  },
  {
   "cell_type": "code",
   "execution_count": null,
   "metadata": {},
   "outputs": [],
   "source": []
  }
 ],
 "metadata": {
  "kernelspec": {
   "display_name": "Python 3",
   "language": "python",
   "name": "python3"
  },
  "language_info": {
   "codemirror_mode": {
    "name": "ipython",
    "version": 3
   },
   "file_extension": ".py",
   "mimetype": "text/x-python",
   "name": "python",
   "nbconvert_exporter": "python",
   "pygments_lexer": "ipython3",
   "version": "3.8.3"
  }
 },
 "nbformat": 4,
 "nbformat_minor": 4
}
